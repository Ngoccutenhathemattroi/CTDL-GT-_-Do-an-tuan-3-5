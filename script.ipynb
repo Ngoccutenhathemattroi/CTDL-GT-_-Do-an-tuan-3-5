{
 "cells": [
  {
   "cell_type": "markdown",
   "metadata": {},
   "source": [
    "## Python scripts to automatically compile, run, export results and visualize cpp codes\n",
    "### Import dependencies"
   ]
  },
  {
   "cell_type": "code",
   "execution_count": 2,
   "metadata": {},
   "outputs": [],
   "source": [
    "import time\n",
    "import os\n",
    "import subprocess\n",
    "import pandas as pd\n",
    "import numpy as np\n",
    "import matplotlib.pyplot as plt\n",
    "import seaborn as sns\n",
    "import csv\n",
    "import timeit"
   ]
  },
  {
   "cell_type": "markdown",
   "metadata": {},
   "source": [
    "# Prepare file paths"
   ]
  },
  {
   "cell_type": "code",
   "execution_count": null,
   "metadata": {},
   "outputs": [],
   "source": []
  },
  {
   "cell_type": "code",
   "execution_count": 6,
   "metadata": {},
   "outputs": [],
   "source": [
    "\n",
    "listFilePath = []\n",
    "listFileNameWithEnd = []\n",
    "listFileName = []\n",
    "path = \"/home/lelouvincx/Documents/code/TH_CTDLGT/CTDL-GT-_-Do-an-tuan-3-5/Code\"\n",
    "os.chdir(path)\n",
    "# iterate through all file\n",
    "for file in os.listdir():\n",
    "    if file.endswith('.cpp'):\n",
    "        filePath = f\"{path}/{file}\"\n",
    "        fileNameWithEnd = f\"{file}\"\n",
    "        fileName = fileNameWithEnd[:-4]\n",
    "        if fileName == 'linear_search' or fileName == 'binary_search':\n",
    "            continue\n",
    "        listFilePath.append(filePath)\n",
    "        listFileNameWithEnd.append(fileNameWithEnd)\n",
    "        listFileName.append(fileName)\n",
    "        pass"
   ]
  },
  {
   "cell_type": "markdown",
   "metadata": {},
   "source": [
    "# Prepare test paths"
   ]
  },
  {
   "cell_type": "code",
   "execution_count": 7,
   "metadata": {},
   "outputs": [],
   "source": [
    "listTestPath = []\n",
    "listTestNameWithEnd = []\n",
    "listTestName = []\n",
    "path = \"/home/lelouvincx/Documents/code/TH_CTDLGT/CTDL-GT-_-Do-an-tuan-3-5/Tests\"\n",
    "os.chdir(path)\n",
    "for file in os.listdir():\n",
    "    if file.endswith('.txt'):\n",
    "        testPath = f\"{path}/{file}\"\n",
    "        listTestPath.append(testPath)\n",
    "        testNameWithEnd = f\"{file}\"\n",
    "        listTestNameWithEnd.append(testNameWithEnd)\n",
    "        testName = testNameWithEnd[:-4]\n",
    "        listTestName.append(testName)"
   ]
  },
  {
   "cell_type": "markdown",
   "metadata": {},
   "source": [
    "# Compile, run and export results in folder ./Results"
   ]
  },
  {
   "cell_type": "code",
   "execution_count": 8,
   "metadata": {},
   "outputs": [
    {
     "name": "stdout",
     "output_type": "stream",
     "text": [
      "Compiling bubble_sort\n",
      "Compiling binary_insertion_sort\n",
      "Compiling insertion_sort\n",
      "Compiling heap_sort\n",
      "Compiling radix_sort\n",
      "Compiling quick_sort\n",
      "Compiling selection_sort\n",
      "Compiling flash_sort\n",
      "Compiling shell_sort\n",
      "Compiling merge_sort\n",
      "Compiling counting_sort\n",
      "Compiling shaker_sort\n",
      "Compilation done\n"
     ]
    }
   ],
   "source": [
    "path = \"/home/lelouvincx/Documents/code/TH_CTDLGT/CTDL-GT-_-Do-an-tuan-3-5/Results\"\n",
    "os.chdir(path)\n",
    "\n",
    "for i in range(len(listFilePath)):\n",
    "    code = listFilePath[i]\n",
    "    name = listFileName[i]\n",
    "    print('Compiling', name)\n",
    "    subprocess.Popen(['g++', code, '-o', name])\n",
    "    time.sleep(2)\n",
    "    pass\n",
    "\n",
    "print('Compilation done')"
   ]
  },
  {
   "cell_type": "code",
   "execution_count": 12,
   "metadata": {},
   "outputs": [
    {
     "name": "stdout",
     "output_type": "stream",
     "text": [
      "Running random_1000 in bubble_sort\n",
      "Running random_1000 in binary_insertion_sort\n",
      "Running random_1000 in insertion_sort\n",
      "Running random_1000 in heap_sort\n",
      "Running random_1000 in radix_sort\n",
      "Running random_1000 in quick_sort\n",
      "Running random_1000 in selection_sort\n",
      "Running random_1000 in flash_sort\n",
      "Running random_1000 in shell_sort\n",
      "Running random_1000 in merge_sort\n",
      "Running random_1000 in counting_sort\n",
      "Running random_1000 in shaker_sort\n",
      "['random', '1000', 0.009263448, 0.006008084, 0.004156883, 0.002875909, 0.005901456, 0.005427936, 0.005014326, 0.005469946, 0.005092193, 0.00319128, 0.007493741, 0.009337156]\n",
      "Running random_30000 in bubble_sort\n",
      "Running random_30000 in binary_insertion_sort\n",
      "Running random_30000 in insertion_sort\n",
      "Running random_30000 in heap_sort\n",
      "Running random_30000 in radix_sort\n",
      "Running random_30000 in quick_sort\n",
      "Running random_30000 in selection_sort\n",
      "Running random_30000 in flash_sort\n",
      "Running random_30000 in shell_sort\n",
      "Running random_30000 in merge_sort\n",
      "Running random_30000 in counting_sort\n",
      "Running random_30000 in shaker_sort\n",
      "['random', '30000', 5.812772718, 0.629668687, 0.779389543, 0.001973407, 0.027682131, 0.038480007, 1.383353604, 0.308196758, 0.032443674, 0.021609042, 0.045453867, 4.379236145]\n",
      "Running random_10000 in bubble_sort\n",
      "Running random_10000 in binary_insertion_sort\n",
      "Running random_10000 in insertion_sort\n",
      "Running random_10000 in heap_sort\n",
      "Running random_10000 in radix_sort\n",
      "Running random_10000 in quick_sort\n",
      "Running random_10000 in selection_sort\n",
      "Running random_10000 in flash_sort\n",
      "Running random_10000 in shell_sort\n",
      "Running random_10000 in merge_sort\n",
      "Running random_10000 in counting_sort\n",
      "Running random_10000 in shaker_sort\n",
      "['random', '10000', 0.646223638, 0.059077503, 0.094292342, 0.001961963, 0.01155984, 0.009775293, 0.131562688, 0.052630672, 0.011325773, 0.008633369, 0.016887208, 0.515730501]\n",
      "Running reversed_1000 in bubble_sort\n",
      "Running reversed_1000 in binary_insertion_sort\n",
      "Running reversed_1000 in insertion_sort\n",
      "Running reversed_1000 in heap_sort\n",
      "Running reversed_1000 in radix_sort\n",
      "Running reversed_1000 in quick_sort\n",
      "Running reversed_1000 in selection_sort\n",
      "Running reversed_1000 in flash_sort\n",
      "Running reversed_1000 in shell_sort\n",
      "Running reversed_1000 in merge_sort\n",
      "Running reversed_1000 in counting_sort\n",
      "Running reversed_1000 in shaker_sort\n",
      "['reversed', '1000', 0.008936458, 0.006281125, 0.005271357, 0.002204202, 0.004909608, 0.008538283, 0.004326728, 0.005185478, 0.00518327, 0.003006374, 0.005146833, 0.011181681]\n",
      "Running sorted_3000 in bubble_sort\n",
      "Running sorted_3000 in binary_insertion_sort\n",
      "Running sorted_3000 in insertion_sort\n",
      "Running sorted_3000 in heap_sort\n",
      "Running sorted_3000 in radix_sort\n",
      "Running sorted_3000 in quick_sort\n",
      "Running sorted_3000 in selection_sort\n",
      "Running sorted_3000 in flash_sort\n",
      "Running sorted_3000 in shell_sort\n",
      "Running sorted_3000 in merge_sort\n",
      "Running sorted_3000 in counting_sort\n",
      "Running sorted_3000 in shaker_sort\n",
      "['sorted', '3000', 0.016221907, 0.005652007, 0.003992243, 0.002646904, 0.007130864, 0.057487483, 0.014764508, 0.007696564, 0.004856621, 0.003530997, 0.007998601, 0.005214887]\n",
      "Running reversed_3000 in bubble_sort\n",
      "Running reversed_3000 in binary_insertion_sort\n",
      "Running reversed_3000 in insertion_sort\n",
      "Running reversed_3000 in heap_sort\n",
      "Running reversed_3000 in radix_sort\n",
      "Running reversed_3000 in quick_sort\n",
      "Running reversed_3000 in selection_sort\n",
      "Running reversed_3000 in flash_sort\n",
      "Running reversed_3000 in shell_sort\n",
      "Running reversed_3000 in merge_sort\n",
      "Running reversed_3000 in counting_sort\n",
      "Running reversed_3000 in shaker_sort\n",
      "['reversed', '3000', 0.053155077, 0.014227126, 0.016290846, 0.001825975, 0.006917885, 0.033832715, 0.014059883, 0.007843615, 0.005233749, 0.003882523, 0.007110564, 0.056990828]\n",
      "Running random_100000 in bubble_sort\n",
      "Running random_100000 in binary_insertion_sort\n",
      "Running random_100000 in insertion_sort\n",
      "Running random_100000 in heap_sort\n",
      "Running random_100000 in radix_sort\n",
      "Running random_100000 in quick_sort\n",
      "Running random_100000 in selection_sort\n",
      "Running random_100000 in flash_sort\n",
      "Running random_100000 in shell_sort\n",
      "Running random_100000 in merge_sort\n",
      "Running random_100000 in counting_sort\n",
      "Running random_100000 in shaker_sort\n",
      "['random', '100000', 63.329910592, 7.519490112, 9.585799027, 0.002007227, 0.119211696, 0.083947021, 16.414827222, 3.149326239, 0.09994802, 0.068385252, 0.226089002, 52.998568181]\n",
      "Running sorted_30000 in bubble_sort\n",
      "Running sorted_30000 in binary_insertion_sort\n",
      "Running sorted_30000 in insertion_sort\n",
      "Running sorted_30000 in heap_sort\n",
      "Running sorted_30000 in radix_sort\n",
      "Running sorted_30000 in quick_sort\n",
      "Running sorted_30000 in selection_sort\n",
      "Running sorted_30000 in flash_sort\n",
      "Running sorted_30000 in shell_sort\n",
      "Running sorted_30000 in merge_sort\n",
      "Running sorted_30000 in counting_sort\n",
      "Running sorted_30000 in shaker_sort\n",
      "['sorted', '30000', 1.433080546, 0.026809558, 0.015975178, 0.002211363, 0.029858242, 6.436530298, 1.589598732, 0.276921309, 0.017168746, 0.017885286, 0.059387769, 0.030618279]\n",
      "Running sorted_1000 in bubble_sort\n",
      "Running sorted_1000 in binary_insertion_sort\n",
      "Running sorted_1000 in insertion_sort\n",
      "Running sorted_1000 in heap_sort\n",
      "Running sorted_1000 in radix_sort\n",
      "Running sorted_1000 in quick_sort\n",
      "Running sorted_1000 in selection_sort\n",
      "Running sorted_1000 in flash_sort\n",
      "Running sorted_1000 in shell_sort\n",
      "Running sorted_1000 in merge_sort\n",
      "Running sorted_1000 in counting_sort\n",
      "Running sorted_1000 in shaker_sort\n",
      "['sorted', '1000', 0.005241148, 0.004706878, 0.002895855, 0.002034978, 0.004554237, 0.020040003, 0.007859787, 0.00643811, 0.004886613, 0.004407904, 0.006383016, 0.005084057]\n",
      "Running reversed_100000 in bubble_sort\n",
      "Running reversed_100000 in binary_insertion_sort\n",
      "Running reversed_100000 in insertion_sort\n",
      "Running reversed_100000 in heap_sort\n",
      "Running reversed_100000 in radix_sort\n",
      "Running reversed_100000 in quick_sort\n"
     ]
    },
    {
     "name": "stderr",
     "output_type": "stream",
     "text": [
      "Segmentation fault (core dumped)\n"
     ]
    },
    {
     "name": "stdout",
     "output_type": "stream",
     "text": [
      "Running reversed_100000 in selection_sort\n",
      "Running reversed_100000 in flash_sort\n",
      "Running reversed_100000 in shell_sort\n",
      "Running reversed_100000 in merge_sort\n",
      "Running reversed_100000 in counting_sort\n",
      "Running reversed_100000 in shaker_sort\n",
      "['reversed', '100000', 61.729083343, 10.093058133, 14.801113803, 0.001980451, 0.082882254, 41.05855979, 14.407954885, 4.043487759, 0.059102127, 0.087939331, 0.210555518, 78.124059958]\n",
      "Running reversed_30000 in bubble_sort\n",
      "Running reversed_30000 in binary_insertion_sort\n",
      "Running reversed_30000 in insertion_sort\n",
      "Running reversed_30000 in heap_sort\n",
      "Running reversed_30000 in radix_sort\n",
      "Running reversed_30000 in quick_sort\n",
      "Running reversed_30000 in selection_sort\n",
      "Running reversed_30000 in flash_sort\n",
      "Running reversed_30000 in shell_sort\n",
      "Running reversed_30000 in merge_sort\n",
      "Running reversed_30000 in counting_sort\n",
      "Running reversed_30000 in shaker_sort\n",
      "['reversed', '30000', 6.39858964, 1.283360344, 1.784878475, 0.002216288, 0.029369541, 3.94050006, 1.451832761, 0.324294869, 0.016669375, 0.016822425, 0.037602358, 4.636604797]\n",
      "Running random_3000 in bubble_sort\n",
      "Running random_3000 in binary_insertion_sort\n",
      "Running random_3000 in insertion_sort\n",
      "Running random_3000 in heap_sort\n",
      "Running random_3000 in radix_sort\n",
      "Running random_3000 in quick_sort\n",
      "Running random_3000 in selection_sort\n",
      "Running random_3000 in flash_sort\n",
      "Running random_3000 in shell_sort\n",
      "Running random_3000 in merge_sort\n",
      "Running random_3000 in counting_sort\n",
      "Running random_3000 in shaker_sort\n",
      "['random', '3000', 0.043160236, 0.009144707, 0.009003502, 0.001638681, 0.005526985, 0.004856256, 0.013660087, 0.006939451, 0.004876093, 0.003563475, 0.006401759, 0.036312227]\n",
      "Running sorted_100000 in bubble_sort\n",
      "Running sorted_100000 in binary_insertion_sort\n",
      "Running sorted_100000 in insertion_sort\n",
      "Running sorted_100000 in heap_sort\n",
      "Running sorted_100000 in radix_sort\n",
      "Running sorted_100000 in quick_sort\n"
     ]
    },
    {
     "name": "stderr",
     "output_type": "stream",
     "text": [
      "Segmentation fault (core dumped)\n"
     ]
    },
    {
     "name": "stdout",
     "output_type": "stream",
     "text": [
      "Running sorted_100000 in selection_sort\n"
     ]
    }
   ],
   "source": [
    "runtimeFile = open('/home/lelouvincx/Documents/code/TH_CTDLGT/CTDL-GT-_-Do-an-tuan-3-5/runtime.csv', 'w')\n",
    "header = ['Input State', 'Input Size']\n",
    "for fileName in listFileName:\n",
    "    header.append(fileName)\n",
    "writer = csv.writer(runtimeFile)\n",
    "writer.writerow(header)\n",
    "\n",
    "\n",
    "for j in range(len(listTestPath)):\n",
    "    test = listTestPath[j]\n",
    "    name = listTestName[j]\n",
    "    inputState = name[:int(name.find('_'))]\n",
    "    size = name[int(name.find('_'))+1:]\n",
    "    runtime = [inputState, size]\n",
    "    for i in range(len(listFilePath)):\n",
    "        result = listFileName[i] + '_' + listTestName[j] + '.txt'\n",
    "        print('Running', listTestName[j], 'in', listFileName[i])\n",
    "        start = timeit.default_timer()\n",
    "        os.system('./' + listFileName[i] + ' < ' + test + ' > ' + result)\n",
    "        stop = timeit.default_timer()\n",
    "        runtime.append(round(stop-start, 10))\n",
    "        pass\n",
    "    writer.writerow(runtime)\n",
    "    print(runtime)"
   ]
  },
  {
   "cell_type": "markdown",
   "metadata": {},
   "source": [
    "# Visualize data from Runtime.csv"
   ]
  }
 ],
 "metadata": {
  "kernelspec": {
   "display_name": "Python 3.9.12 ('base')",
   "language": "python",
   "name": "python3"
  },
  "language_info": {
   "name": "python",
   "version": "3.9.12"
  },
  "orig_nbformat": 4,
  "vscode": {
   "interpreter": {
    "hash": "a43fea6d1251d2cba8cf654657749b19a8aab55ffd570fde8f8cd8719350c883"
   }
  }
 },
 "nbformat": 4,
 "nbformat_minor": 2
}
