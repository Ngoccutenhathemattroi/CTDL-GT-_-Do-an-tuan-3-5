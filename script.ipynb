{
 "cells": [
  {
   "cell_type": "markdown",
   "metadata": {},
   "source": [
    "## Python scripts to automatically compile, run, export results and visualize cpp codes\n",
    "### Import dependencies"
   ]
  },
  {
   "cell_type": "code",
   "execution_count": 1,
   "metadata": {},
   "outputs": [],
   "source": [
    "import time\n",
    "import os\n",
    "import subprocess\n",
    "import pandas as pd\n",
    "import numpy as np\n",
    "import matplotlib.pyplot as plt\n",
    "import seaborn as sns\n",
    "import csv\n",
    "import timeit"
   ]
  },
  {
   "cell_type": "markdown",
   "metadata": {},
   "source": [
    "## Prepare file paths"
   ]
  },
  {
   "cell_type": "code",
   "execution_count": 2,
   "metadata": {},
   "outputs": [],
   "source": [
    "\n",
    "listFilePath = []\n",
    "listFileNameWithEnd = []\n",
    "listFileName = []\n",
    "path = \"/home/lelouvincx/Documents/code/TH_CTDLGT/CTDL-GT-_-Do-an-tuan-3-5/Code\"\n",
    "os.chdir(path)\n",
    "# iterate through all file\n",
    "for file in os.listdir():\n",
    "    if file.endswith('.cpp'):\n",
    "        filePath = f\"{path}/{file}\"\n",
    "        fileNameWithEnd = f\"{file}\"\n",
    "        fileName = fileNameWithEnd[:-4]\n",
    "        if fileName == 'linear_search' or fileName == 'binary_search':\n",
    "            continue\n",
    "        listFilePath.append(filePath)\n",
    "        listFileNameWithEnd.append(fileNameWithEnd)\n",
    "        listFileName.append(fileName)\n",
    "        pass"
   ]
  },
  {
   "cell_type": "markdown",
   "metadata": {},
   "source": [
    "## Prepare test paths"
   ]
  },
  {
   "cell_type": "code",
   "execution_count": 3,
   "metadata": {},
   "outputs": [],
   "source": [
    "listTestPath = []\n",
    "listTestNameWithEnd = []\n",
    "listTestName = []\n",
    "path = \"/home/lelouvincx/Documents/code/TH_CTDLGT/CTDL-GT-_-Do-an-tuan-3-5/Tests\"\n",
    "os.chdir(path)\n",
    "for file in os.listdir():\n",
    "    if file.endswith('.txt'):\n",
    "        testPath = f\"{path}/{file}\"\n",
    "        listTestPath.append(testPath)\n",
    "        testNameWithEnd = f\"{file}\"\n",
    "        listTestNameWithEnd.append(testNameWithEnd)\n",
    "        testName = testNameWithEnd[:-4]\n",
    "        listTestName.append(testName)"
   ]
  },
  {
   "cell_type": "markdown",
   "metadata": {},
   "source": [
    "## Compile, run and export results in folder ./Results"
   ]
  },
  {
   "cell_type": "code",
   "execution_count": 4,
   "metadata": {},
   "outputs": [
    {
     "name": "stdout",
     "output_type": "stream",
     "text": [
      "Compiling bubble_sort\n",
      "Compiling binary_insertion_sort\n",
      "Compiling insertion_sort\n",
      "Compiling heap_sort\n",
      "Compiling radix_sort\n",
      "Compiling quick_sort\n",
      "Compiling selection_sort\n",
      "Compiling flash_sort\n",
      "Compiling shell_sort\n",
      "Compiling merge_sort\n",
      "Compiling counting_sort\n",
      "Compiling shaker_sort\n",
      "Compilation done\n"
     ]
    }
   ],
   "source": [
    "path = \"/home/lelouvincx/Documents/code/TH_CTDLGT/CTDL-GT-_-Do-an-tuan-3-5/Results\"\n",
    "os.chdir(path)\n",
    "\n",
    "for i in range(len(listFilePath)):\n",
    "    code = listFilePath[i]\n",
    "    name = listFileName[i]\n",
    "    print('Compiling', name)\n",
    "    subprocess.Popen(['g++', code, '-o', name])\n",
    "    time.sleep(2)\n",
    "    pass\n",
    "\n",
    "print('Compilation done')"
   ]
  },
  {
   "cell_type": "code",
   "execution_count": 7,
   "metadata": {},
   "outputs": [
    {
     "name": "stdout",
     "output_type": "stream",
     "text": [
      "Running random_1000 in bubble_sort\n",
      "Running random_1000 in binary_insertion_sort\n",
      "Running random_1000 in insertion_sort\n",
      "Running random_1000 in heap_sort\n",
      "Running random_1000 in radix_sort\n",
      "Running random_1000 in quick_sort\n",
      "Running random_1000 in selection_sort\n",
      "Running random_1000 in flash_sort\n",
      "Running random_1000 in shell_sort\n",
      "Running random_1000 in merge_sort\n",
      "Running random_1000 in counting_sort\n",
      "Running random_1000 in shaker_sort\n",
      "['random', '1000', 0.010025208, 0.005578664, 0.00462544, 0.00236017, 0.005891404, 0.005392357, 0.005364545, 0.005585506, 0.005513938, 0.003566196, 0.005639403, 0.009155943]\n",
      "Running random_30000 in bubble_sort\n",
      "Running random_30000 in binary_insertion_sort\n",
      "Running random_30000 in insertion_sort\n",
      "Running random_30000 in heap_sort\n",
      "Running random_30000 in radix_sort\n",
      "Running random_30000 in quick_sort\n",
      "Running random_30000 in selection_sort\n",
      "Running random_30000 in flash_sort\n",
      "Running random_30000 in shell_sort\n",
      "Running random_30000 in merge_sort\n",
      "Running random_30000 in counting_sort\n",
      "Running random_30000 in shaker_sort\n",
      "['random', '30000', 4.539273112, 0.449720573, 0.614572099, 0.001994569, 0.026540742, 0.022223656, 1.070276681, 0.253472713, 0.02168716, 0.020493224, 0.041724432, 3.429280402]\n",
      "Running random_10000 in bubble_sort\n",
      "Running random_10000 in binary_insertion_sort\n",
      "Running random_10000 in insertion_sort\n",
      "Running random_10000 in heap_sort\n",
      "Running random_10000 in radix_sort\n",
      "Running random_10000 in quick_sort\n",
      "Running random_10000 in selection_sort\n",
      "Running random_10000 in flash_sort\n",
      "Running random_10000 in shell_sort\n",
      "Running random_10000 in merge_sort\n",
      "Running random_10000 in counting_sort\n",
      "Running random_10000 in shaker_sort\n",
      "['random', '10000', 0.486797055, 0.06532053, 0.071760662, 0.001624986, 0.011327743, 0.009780793, 0.12548011, 0.032445236, 0.009565907, 0.007706705, 0.015080888, 0.384746132]\n",
      "Running reversed_1000 in bubble_sort\n",
      "Running reversed_1000 in binary_insertion_sort\n",
      "Running reversed_1000 in insertion_sort\n",
      "Running reversed_1000 in heap_sort\n",
      "Running reversed_1000 in radix_sort\n",
      "Running reversed_1000 in quick_sort\n",
      "Running reversed_1000 in selection_sort\n",
      "Running reversed_1000 in flash_sort\n",
      "Running reversed_1000 in shell_sort\n",
      "Running reversed_1000 in merge_sort\n",
      "Running reversed_1000 in counting_sort\n",
      "Running reversed_1000 in shaker_sort\n",
      "['reversed', '1000', 0.007759298, 0.004860061, 0.003784473, 0.001682455, 0.003922435, 0.00982892, 0.003794125, 0.004598987, 0.004393237, 0.002573324, 0.00444677, 0.009494927]\n",
      "Running sorted_3000 in bubble_sort\n",
      "Running sorted_3000 in binary_insertion_sort\n",
      "Running sorted_3000 in insertion_sort\n",
      "Running sorted_3000 in heap_sort\n",
      "Running sorted_3000 in radix_sort\n",
      "Running sorted_3000 in quick_sort\n",
      "Running sorted_3000 in selection_sort\n",
      "Running sorted_3000 in flash_sort\n",
      "Running sorted_3000 in shell_sort\n",
      "Running sorted_3000 in merge_sort\n",
      "Running sorted_3000 in counting_sort\n",
      "Running sorted_3000 in shaker_sort\n",
      "['sorted', '3000', 0.014412644, 0.005110753, 0.003261468, 0.001752816, 0.005976141, 0.05125689, 0.013914667, 0.006735585, 0.004537039, 0.003923196, 0.006828847, 0.004578262]\n",
      "Running reversed_3000 in bubble_sort\n",
      "Running reversed_3000 in binary_insertion_sort\n",
      "Running reversed_3000 in insertion_sort\n",
      "Running reversed_3000 in heap_sort\n",
      "Running reversed_3000 in radix_sort\n",
      "Running reversed_3000 in quick_sort\n",
      "Running reversed_3000 in selection_sort\n",
      "Running reversed_3000 in flash_sort\n",
      "Running reversed_3000 in shell_sort\n",
      "Running reversed_3000 in merge_sort\n",
      "Running reversed_3000 in counting_sort\n",
      "Running reversed_3000 in shaker_sort\n",
      "['reversed', '3000', 0.049288742, 0.014984635, 0.014941812, 0.001719717, 0.005877133, 0.031300069, 0.014038478, 0.007920453, 0.004982693, 0.003333965, 0.006795228, 0.053442378]\n",
      "Running random_100000 in bubble_sort\n",
      "Running random_100000 in binary_insertion_sort\n",
      "Running random_100000 in insertion_sort\n",
      "Running random_100000 in heap_sort\n",
      "Running random_100000 in radix_sort\n",
      "Running random_100000 in quick_sort\n",
      "Running random_100000 in selection_sort\n",
      "Running random_100000 in flash_sort\n",
      "Running random_100000 in shell_sort\n",
      "Running random_100000 in merge_sort\n",
      "Running random_100000 in counting_sort\n",
      "Running random_100000 in shaker_sort\n",
      "['random', '100000', 50.0919866, 4.719543721, 6.564430041, 0.001893452, 0.081284072, 0.064702738, 12.1056419, 2.523847575, 0.070072047, 0.063704469, 0.166894573, 38.731904306]\n",
      "Running sorted_30000 in bubble_sort\n",
      "Running sorted_30000 in binary_insertion_sort\n",
      "Running sorted_30000 in insertion_sort\n",
      "Running sorted_30000 in heap_sort\n",
      "Running sorted_30000 in radix_sort\n",
      "Running sorted_30000 in quick_sort\n",
      "Running sorted_30000 in selection_sort\n",
      "Running sorted_30000 in flash_sort\n",
      "Running sorted_30000 in shell_sort\n",
      "Running sorted_30000 in merge_sort\n",
      "Running sorted_30000 in counting_sort\n",
      "Running sorted_30000 in shaker_sort\n",
      "['sorted', '30000', 1.044670017, 0.020022421, 0.014394014, 0.001836966, 0.028472839, 4.860917572, 1.13999195, 0.203785287, 0.019398378, 0.018240156, 0.040557279, 0.016599412]\n",
      "Running sorted_1000 in bubble_sort\n",
      "Running sorted_1000 in binary_insertion_sort\n",
      "Running sorted_1000 in insertion_sort\n",
      "Running sorted_1000 in heap_sort\n",
      "Running sorted_1000 in radix_sort\n",
      "Running sorted_1000 in quick_sort\n",
      "Running sorted_1000 in selection_sort\n",
      "Running sorted_1000 in flash_sort\n",
      "Running sorted_1000 in shell_sort\n",
      "Running sorted_1000 in merge_sort\n",
      "Running sorted_1000 in counting_sort\n",
      "Running sorted_1000 in shaker_sort\n",
      "['sorted', '1000', 0.003456022, 0.003635434, 0.002241672, 0.001811731, 0.004541436, 0.009019799, 0.003815536, 0.004534322, 0.003775572, 0.002452176, 0.004352799, 0.004204455]\n",
      "Running reversed_100000 in bubble_sort\n",
      "Running reversed_100000 in binary_insertion_sort\n",
      "Running reversed_100000 in insertion_sort\n",
      "Running reversed_100000 in heap_sort\n",
      "Running reversed_100000 in radix_sort\n",
      "Running reversed_100000 in quick_sort\n"
     ]
    },
    {
     "name": "stderr",
     "output_type": "stream",
     "text": [
      "Segmentation fault (core dumped)\n"
     ]
    },
    {
     "name": "stdout",
     "output_type": "stream",
     "text": [
      "Running reversed_100000 in selection_sort\n",
      "Running reversed_100000 in flash_sort\n",
      "Running reversed_100000 in shell_sort\n",
      "Running reversed_100000 in merge_sort\n",
      "Running reversed_100000 in counting_sort\n",
      "Running reversed_100000 in shaker_sort\n",
      "['reversed', '100000', 54.749152893, 10.430111971, 13.678761994, 0.002166552, 0.084770342, 32.488042126, 12.446073473, 3.105520786, 0.054875698, 0.057391561, 0.138122659, 56.215081284]\n",
      "Running reversed_30000 in bubble_sort\n",
      "Running reversed_30000 in binary_insertion_sort\n",
      "Running reversed_30000 in insertion_sort\n",
      "Running reversed_30000 in heap_sort\n",
      "Running reversed_30000 in radix_sort\n",
      "Running reversed_30000 in quick_sort\n",
      "Running reversed_30000 in selection_sort\n",
      "Running reversed_30000 in flash_sort\n",
      "Running reversed_30000 in shell_sort\n",
      "Running reversed_30000 in merge_sort\n",
      "Running reversed_30000 in counting_sort\n",
      "Running reversed_30000 in shaker_sort\n",
      "['reversed', '30000', 5.17525611, 0.985859885, 1.384813831, 0.002726457, 0.028212602, 3.210272037, 1.136828327, 0.348113651, 0.02040247, 0.019271913, 0.048755899, 5.247814697]\n",
      "Running random_3000 in bubble_sort\n",
      "Running random_3000 in binary_insertion_sort\n",
      "Running random_3000 in insertion_sort\n",
      "Running random_3000 in heap_sort\n",
      "Running random_3000 in radix_sort\n",
      "Running random_3000 in quick_sort\n",
      "Running random_3000 in selection_sort\n",
      "Running random_3000 in flash_sort\n",
      "Running random_3000 in shell_sort\n",
      "Running random_3000 in merge_sort\n",
      "Running random_3000 in counting_sort\n",
      "Running random_3000 in shaker_sort\n",
      "['random', '3000', 0.046475899, 0.010145861, 0.010036428, 0.001918567, 0.005745341, 0.006098175, 0.014623787, 0.007607877, 0.005329097, 0.004564669, 0.006884859, 0.038180426]\n",
      "Running sorted_100000 in bubble_sort\n",
      "Running sorted_100000 in binary_insertion_sort\n",
      "Running sorted_100000 in insertion_sort\n",
      "Running sorted_100000 in heap_sort\n",
      "Running sorted_100000 in radix_sort\n",
      "Running sorted_100000 in quick_sort\n"
     ]
    },
    {
     "name": "stderr",
     "output_type": "stream",
     "text": [
      "Segmentation fault (core dumped)\n"
     ]
    },
    {
     "name": "stdout",
     "output_type": "stream",
     "text": [
      "Running sorted_100000 in selection_sort\n",
      "Running sorted_100000 in flash_sort\n",
      "Running sorted_100000 in shell_sort\n",
      "Running sorted_100000 in merge_sort\n",
      "Running sorted_100000 in counting_sort\n",
      "Running sorted_100000 in shaker_sort\n",
      "['sorted', '100000', 12.366876129, 0.056760703, 0.048811491, 0.002785511, 0.086192373, 53.232886496, 12.273820648, 2.227950974, 0.049504293, 0.061931627, 0.13550021, 0.050322043]\n",
      "Running sorted_10000 in bubble_sort\n",
      "Running sorted_10000 in binary_insertion_sort\n",
      "Running sorted_10000 in insertion_sort\n",
      "Running sorted_10000 in heap_sort\n",
      "Running sorted_10000 in radix_sort\n",
      "Running sorted_10000 in quick_sort\n",
      "Running sorted_10000 in selection_sort\n",
      "Running sorted_10000 in flash_sort\n",
      "Running sorted_10000 in shell_sort\n",
      "Running sorted_10000 in merge_sort\n",
      "Running sorted_10000 in counting_sort\n",
      "Running sorted_10000 in shaker_sort\n",
      "['sorted', '10000', 0.121100992, 0.008297463, 0.007162326, 0.001725837, 0.011412219, 0.555977298, 0.131300013, 0.028337416, 0.007995873, 0.007609312, 0.014335027, 0.008794082]\n",
      "Running reversed_10000 in bubble_sort\n",
      "Running reversed_10000 in binary_insertion_sort\n",
      "Running reversed_10000 in insertion_sort\n",
      "Running reversed_10000 in heap_sort\n",
      "Running reversed_10000 in radix_sort\n",
      "Running reversed_10000 in quick_sort\n",
      "Running reversed_10000 in selection_sort\n",
      "Running reversed_10000 in flash_sort\n",
      "Running reversed_10000 in shell_sort\n",
      "Running reversed_10000 in merge_sort\n",
      "Running reversed_10000 in counting_sort\n",
      "Running reversed_10000 in shaker_sort\n",
      "['reversed', '10000', 0.555801018, 0.107245208, 0.141164723, 0.001680424, 0.012513605, 0.362013112, 0.134482741, 0.039578965, 0.008688684, 0.007624611, 0.015165077, 0.567627917]\n"
     ]
    }
   ],
   "source": [
    "with open('/home/lelouvincx/Documents/code/TH_CTDLGT/CTDL-GT-_-Do-an-tuan-3-5/Runtime.csv', 'w', encoding='UTF8', newline='') as runtimeFile:\n",
    "    path = \"/home/lelouvincx/Documents/code/TH_CTDLGT/CTDL-GT-_-Do-an-tuan-3-5/Results\"\n",
    "    os.chdir(path)\n",
    "    header = ['input_state', 'input_size']\n",
    "    for fileName in listFileName:\n",
    "        header.append(fileName)\n",
    "        # TODO: Process header again\n",
    "    writer = csv.writer(runtimeFile)\n",
    "    writer.writerow(header)\n",
    "\n",
    "\n",
    "    for j in range(len(listTestPath)):\n",
    "        test = listTestPath[j]\n",
    "        name = listTestName[j]\n",
    "        inputState = name[:int(name.find('_'))]\n",
    "        size = name[int(name.find('_'))+1:]\n",
    "        runtime = [inputState, size]\n",
    "        for i in range(len(listFilePath)):\n",
    "            result = listFileName[i] + '_' + listTestName[j] + '.txt'\n",
    "            print('Running', listTestName[j], 'in', listFileName[i])\n",
    "            start = timeit.default_timer()\n",
    "            os.system('./' + listFileName[i] + ' < ' + test + ' > ' + result)\n",
    "            stop = timeit.default_timer()\n",
    "            runtime.append(round(stop-start, 10))\n",
    "            pass\n",
    "        writer.writerow(runtime)\n",
    "        print(runtime)"
   ]
  },
  {
   "cell_type": "markdown",
   "metadata": {},
   "source": [
    "## Visualize data from Runtime.csv"
   ]
  },
  {
   "cell_type": "code",
   "execution_count": 6,
   "metadata": {},
   "outputs": [],
   "source": [
    "%matplotlib inline\n",
    "path = \"/home/lelouvincx/Documents/code/TH_CTDLGT/CTDL-GT-_-Do-an-tuan-3-5\"\n",
    "os.chdir(path)\n",
    "# runtimeDataset = pd.read_csv('{path}/runtime.csv')\n",
    "# runtime = sns.load(runtimeDataset)"
   ]
  }
 ],
 "metadata": {
  "kernelspec": {
   "display_name": "Python 3.9.12 ('base')",
   "language": "python",
   "name": "python3"
  },
  "language_info": {
   "codemirror_mode": {
    "name": "ipython",
    "version": 3
   },
   "file_extension": ".py",
   "mimetype": "text/x-python",
   "name": "python",
   "nbconvert_exporter": "python",
   "pygments_lexer": "ipython3",
   "version": "3.9.12"
  },
  "orig_nbformat": 4,
  "vscode": {
   "interpreter": {
    "hash": "a43fea6d1251d2cba8cf654657749b19a8aab55ffd570fde8f8cd8719350c883"
   }
  }
 },
 "nbformat": 4,
 "nbformat_minor": 2
}
